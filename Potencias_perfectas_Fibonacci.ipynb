{
  "nbformat": 4,
  "nbformat_minor": 0,
  "metadata": {
    "colab": {
      "provenance": [],
      "authorship_tag": "ABX9TyPc42h2PgmLMWWZdq0ZIZn0"
    },
    "kernelspec": {
      "name": "python3",
      "display_name": "Python 3"
    },
    "language_info": {
      "name": "python"
    }
  },
  "cells": [
    {
      "cell_type": "markdown",
      "source": [
        "En este código se muestran los números de Fibonacci menores que $10²⁰$ que son potencias perfectas y en el artículo anexado hay màs información sobre estos números\n",
        "\n",
        "https://annals.math.princeton.edu/2006/163-3/p05\n",
        "\n"
      ],
      "metadata": {
        "id": "3Oso2BZGGsR2"
      }
    },
    {
      "cell_type": "code",
      "execution_count": null,
      "metadata": {
        "id": "4Xu1RrRbGj8p"
      },
      "outputs": [],
      "source": [
        "from sympy import sqrt\n",
        "p=0\n",
        "def pot(p):\n",
        "  return eval(p)\n",
        "p=input(\"potencia?\")\n",
        "\n",
        "def potencia(n):\n",
        "    return int(sqrt(n)) ** pot(p) == n\n",
        "\n",
        "def potencia_fibonacci(n):\n",
        "    fibs = []\n",
        "    a, b = 0, 1\n",
        "    while a < n:\n",
        "        if potencia(a):\n",
        "            fibs.append(a)\n",
        "        a, b = b, a+b\n",
        "    return fibs\n",
        "\n",
        "potencia_fibonacci(10**20)"
      ]
    }
  ]
}