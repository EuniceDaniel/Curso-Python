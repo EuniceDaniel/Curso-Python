{
  "cells": [
    {
      "cell_type": "markdown",
      "metadata": {
        "id": "labEW0kwBwug"
      },
      "source": [
        "Control de flujo\n",
        "================\n",
        "\n",
        "**Date:** 2023-08-16\n",
        "\n"
      ]
    },
    {
      "cell_type": "markdown",
      "metadata": {
        "id": "tCQc9bb_Bwuk"
      },
      "source": [
        "## Control de flujo\n",
        "\n"
      ]
    },
    {
      "cell_type": "markdown",
      "metadata": {
        "id": "EHPTJIRUBwul"
      },
      "source": [
        "### `if`\n",
        "\n"
      ]
    },
    {
      "cell_type": "code",
      "execution_count": 1,
      "metadata": {
        "colab": {
          "base_uri": "https://localhost:8080/"
        },
        "id": "ruJQIwm_Bwum",
        "outputId": "2765f5a5-bced-4956-e16d-44546277f7f8"
      },
      "outputs": [
        {
          "output_type": "execute_result",
          "data": {
            "text/plain": [
              "['Fernanda', 'Karem', 'Mariana', 'Mauritania', 'Loren', 'Samuel', 'Brenda']"
            ]
          },
          "metadata": {},
          "execution_count": 1
        }
      ],
      "source": [
        "inscritos = [\"Fernanda\", \"Karem\", \"Mariana\", \"Mauritania\", \"Loren\"]\n",
        "oyentes = [\"Samuel\", \"Brenda\"]\n",
        "estudiantes = inscritos + oyentes\n",
        "estudiantes"
      ]
    },
    {
      "cell_type": "code",
      "execution_count": 2,
      "metadata": {
        "colab": {
          "base_uri": "https://localhost:8080/"
        },
        "id": "8blbztDQBwun",
        "outputId": "3d509804-01e8-4b7e-d02f-7ea23498e609"
      },
      "outputs": [
        {
          "output_type": "stream",
          "name": "stdout",
          "text": [
            "Son muchos estudiantes\n"
          ]
        }
      ],
      "source": [
        "if len(estudiantes) > 5:\n",
        "    print(\"Son muchos estudiantes\")"
      ]
    },
    {
      "cell_type": "code",
      "execution_count": 3,
      "metadata": {
        "colab": {
          "base_uri": "https://localhost:8080/"
        },
        "id": "7r5H5bF-Bwuo",
        "outputId": "50f70a28-9185-488f-c1de-ead1b88dda8a"
      },
      "outputs": [
        {
          "output_type": "stream",
          "name": "stdout",
          "text": [
            "Son pocos estudiantes. Ojalá entren oyentes\n"
          ]
        }
      ],
      "source": [
        "if len(estudiantes) > 10:\n",
        "    print(\"Son muchos estudiantes\")\n",
        "else:\n",
        "    print(\"Son pocos estudiantes\", end=\". \")\n",
        "    print(\"Ojalá entren oyentes\")"
      ]
    },
    {
      "cell_type": "code",
      "execution_count": 18,
      "metadata": {
        "colab": {
          "base_uri": "https://localhost:8080/"
        },
        "id": "NzVAupQ5Bwup",
        "outputId": "8bd898d3-ac36-43c9-ea16-66b22745f4c7"
      },
      "outputs": [
        {
          "output_type": "stream",
          "name": "stdout",
          "text": [
            "Son muchos estudiantes. Ojalá no entren oyentes\n"
          ]
        }
      ],
      "source": [
        "if len(inscritos) <= 5:\n",
        "    print(\"Son cuando mucho cinco estudiantes\")\n",
        "elif len(inscritos) == 6:\n",
        "    print(\"Son seis estudiantes\")\n",
        "else:\n",
        "    print(\"Son muchos estudiantes\", end=\". \")\n",
        "    print(\"Ojalá no entren oyentes\")"
      ]
    },
    {
      "cell_type": "markdown",
      "metadata": {
        "id": "zISgRuLIBwup"
      },
      "source": [
        "### `for`\n",
        "\n"
      ]
    },
    {
      "cell_type": "code",
      "execution_count": 5,
      "metadata": {
        "colab": {
          "base_uri": "https://localhost:8080/"
        },
        "id": "V_nch99eBwuq",
        "outputId": "077d9ab1-c9e3-4e13-8233-c50ac2ce13f3"
      },
      "outputs": [
        {
          "output_type": "stream",
          "name": "stdout",
          "text": [
            "Hola Fernanda ¿Cómo estás?\n",
            "Hola Karem ¿Cómo estás?\n",
            "Hola Mariana ¿Cómo estás?\n",
            "Hola Mauritania ¿Cómo estás?\n",
            "Hola Loren ¿Cómo estás?\n",
            "Hola Samuel ¿Cómo estás?\n",
            "Hola Brenda ¿Cómo estás?\n"
          ]
        }
      ],
      "source": [
        "for estudiante in estudiantes:\n",
        "    print(\"Hola\", estudiante, \"¿Cómo estás?\")"
      ]
    },
    {
      "cell_type": "code",
      "execution_count": 6,
      "metadata": {
        "colab": {
          "base_uri": "https://localhost:8080/"
        },
        "id": "F8VP-r_YBwur",
        "outputId": "a9a63803-56c6-45bd-bc1e-114301e7d4de"
      },
      "outputs": [
        {
          "output_type": "stream",
          "name": "stdout",
          "text": [
            "Hola Fernanda\n",
            "Hola Karem\n",
            "Hola Mariana\n",
            "Hola Mauritania\n",
            "Hola Loren\n",
            "Hola Samuel\n",
            "Hola Brenda\n"
          ]
        }
      ],
      "source": [
        "for i in range(len(estudiantes)):\n",
        "    print(\"Hola\", estudiantes[i])"
      ]
    },
    {
      "cell_type": "code",
      "execution_count": 23,
      "metadata": {
        "colab": {
          "base_uri": "https://localhost:8080/"
        },
        "id": "pB-JrGelBwur",
        "outputId": "4bf9c1fa-cd42-436d-87ca-b6dcef694a98"
      },
      "outputs": [
        {
          "output_type": "stream",
          "name": "stdout",
          "text": [
            "3\n",
            "2\n",
            "1\n",
            "0\n",
            "Booom\n"
          ]
        }
      ],
      "source": [
        "for j in range(3, -1, -1):\n",
        "    print(j)\n",
        "    if j == 0:\n",
        "        print(\"Booom\")"
      ]
    },
    {
      "cell_type": "markdown",
      "source": [
        "range(i,j,k) i representa el inicio, j-1 es el numero en el que para y k el número de paso"
      ],
      "metadata": {
        "id": "Ul8zJiVbH5PB"
      }
    },
    {
      "cell_type": "code",
      "source": [
        "list(range(5,100,2))"
      ],
      "metadata": {
        "colab": {
          "base_uri": "https://localhost:8080/"
        },
        "id": "hpZM1gV_G8CV",
        "outputId": "265f6e56-940b-43f9-88db-037c87e4a54c"
      },
      "execution_count": 31,
      "outputs": [
        {
          "output_type": "execute_result",
          "data": {
            "text/plain": [
              "[5,\n",
              " 7,\n",
              " 9,\n",
              " 11,\n",
              " 13,\n",
              " 15,\n",
              " 17,\n",
              " 19,\n",
              " 21,\n",
              " 23,\n",
              " 25,\n",
              " 27,\n",
              " 29,\n",
              " 31,\n",
              " 33,\n",
              " 35,\n",
              " 37,\n",
              " 39,\n",
              " 41,\n",
              " 43,\n",
              " 45,\n",
              " 47,\n",
              " 49,\n",
              " 51,\n",
              " 53,\n",
              " 55,\n",
              " 57,\n",
              " 59,\n",
              " 61,\n",
              " 63,\n",
              " 65,\n",
              " 67,\n",
              " 69,\n",
              " 71,\n",
              " 73,\n",
              " 75,\n",
              " 77,\n",
              " 79,\n",
              " 81,\n",
              " 83,\n",
              " 85,\n",
              " 87,\n",
              " 89,\n",
              " 91,\n",
              " 93,\n",
              " 95,\n",
              " 97,\n",
              " 99]"
            ]
          },
          "metadata": {},
          "execution_count": 31
        }
      ]
    },
    {
      "cell_type": "code",
      "execution_count": 8,
      "metadata": {
        "colab": {
          "base_uri": "https://localhost:8080/"
        },
        "id": "-gk_A8VbBwus",
        "outputId": "27d351e6-5099-4855-bfd2-57538143eb8d"
      },
      "outputs": [
        {
          "output_type": "execute_result",
          "data": {
            "text/plain": [
              "range(0, 7897987978979779878979797987987979779797979)"
            ]
          },
          "metadata": {},
          "execution_count": 8
        }
      ],
      "source": [
        "range(7897987978979779878979797987987979779797979)"
      ]
    },
    {
      "cell_type": "markdown",
      "metadata": {
        "id": "PWJRHsc1Bwus"
      },
      "source": [
        "La suma de todos los números del 1 al 100.\n",
        "\n"
      ]
    },
    {
      "cell_type": "code",
      "execution_count": 9,
      "metadata": {
        "colab": {
          "base_uri": "https://localhost:8080/"
        },
        "id": "e6UEgyP9Bwut",
        "outputId": "981e8599-9b85-4eb3-ed79-97e8f14294a5"
      },
      "outputs": [
        {
          "output_type": "execute_result",
          "data": {
            "text/plain": [
              "5050"
            ]
          },
          "metadata": {},
          "execution_count": 9
        }
      ],
      "source": [
        "sum(range(101))"
      ]
    },
    {
      "cell_type": "markdown",
      "metadata": {
        "id": "JL7dZnlaBwut"
      },
      "source": [
        "### break, continue y else en ciclos for\n",
        "\n"
      ]
    },
    {
      "cell_type": "markdown",
      "metadata": {
        "id": "C7Xd0kFzBwut"
      },
      "source": [
        "#### break\n",
        "\n"
      ]
    },
    {
      "cell_type": "markdown",
      "metadata": {
        "id": "0oe7GdZjBwut"
      },
      "source": [
        "`break` sirve para interrumpir un ciclo for.\n",
        "\n"
      ]
    },
    {
      "cell_type": "code",
      "execution_count": 32,
      "metadata": {
        "colab": {
          "base_uri": "https://localhost:8080/"
        },
        "id": "YnUe3CLGBwuu",
        "outputId": "8f341cd0-1f2e-4c9f-b8d5-fe7bf7d025e0"
      },
      "outputs": [
        {
          "output_type": "stream",
          "name": "stdout",
          "text": [
            "Hola Fernanda ¿Cómo estás?\n",
            "Hola Karem ¿Cómo estás?\n",
            "Ya saludé a los inscritos\n"
          ]
        }
      ],
      "source": [
        "for estudiante in estudiantes:\n",
        "    print(\"Hola\", estudiante, \"¿Cómo estás?\")\n",
        "    if estudiante == \"Karem\":\n",
        "        break\n",
        "\n",
        "print(\"Ya saludé a los inscritos\")"
      ]
    },
    {
      "cell_type": "markdown",
      "metadata": {
        "id": "mmZfPeYeBwuu"
      },
      "source": [
        "#### else en un ciclo for\n",
        "\n"
      ]
    },
    {
      "cell_type": "markdown",
      "metadata": {
        "id": "RrPm3_ogBwuu"
      },
      "source": [
        "La cláusula `else` en un ciclo `for` se ejecuta cuando el ciclo `for` termina de manera \"natural\", sin haber pasado por una cláusula `break`.\n",
        "\n"
      ]
    },
    {
      "cell_type": "code",
      "execution_count": 34,
      "metadata": {
        "colab": {
          "base_uri": "https://localhost:8080/"
        },
        "id": "RbEBvpc2Bwuu",
        "outputId": "96c373e8-9e17-4d01-f022-24c52654145d"
      },
      "outputs": [
        {
          "output_type": "stream",
          "name": "stdout",
          "text": [
            "2 es un número primo\n",
            "3 es un número primo\n",
            "4 es igual a 2 * 2\n",
            "5 es un número primo\n",
            "6 es igual a 2 * 3\n",
            "7 es un número primo\n",
            "8 es igual a 2 * 4\n",
            "9 es igual a 3 * 3\n"
          ]
        }
      ],
      "source": [
        "for n in range(2, 10):\n",
        "    for x in range(2, n):\n",
        "        if n % x == 0:\n",
        "            print(n, 'es igual a', x, '*', n//x)\n",
        "            break\n",
        "    else:\n",
        "        # se terminó de checar posibles divisores sin encontrar uno\n",
        "        print(n, 'es un número primo')"
      ]
    },
    {
      "cell_type": "markdown",
      "metadata": {
        "id": "ZWd2BLvDBwuv"
      },
      "source": [
        "#### continue\n",
        "\n"
      ]
    },
    {
      "cell_type": "markdown",
      "source": [
        "`break` sirve para parar un ciclo for mientras que el `continue` lo sigue hasta acabar"
      ],
      "metadata": {
        "id": "OSHy4-j-L5PD"
      }
    },
    {
      "cell_type": "code",
      "execution_count": 37,
      "metadata": {
        "colab": {
          "base_uri": "https://localhost:8080/"
        },
        "id": "Wqs3Z0nTBwuv",
        "outputId": "ba22509d-5cb2-4543-ea9a-ca1faf189bd8"
      },
      "outputs": [
        {
          "output_type": "stream",
          "name": "stdout",
          "text": [
            "Hola Fernanda ¿Cómo estás?\n",
            "¿Qué materias estás llevando, Fernanda ?\n",
            "Hola Karem ¿Cómo estás?\n",
            "¿Qué materias estás llevando, Karem ?\n",
            "Hola Mariana ¿Cómo estás?\n",
            "¿Qué materias estás llevando, Mariana ?\n",
            "Hola Mauritania ¿Cómo estás?\n",
            "¿Qué materias estás llevando, Mauritania ?\n",
            "Hola Loren ¿Cómo estás?\n",
            "¿Qué materias estás llevando, Loren ?\n",
            "Hola Samuel ¿Cómo estás?\n",
            "Hola Brenda ¿Cómo estás?\n"
          ]
        }
      ],
      "source": [
        "for estudiante in estudiantes:\n",
        "    print(\"Hola\", estudiante, \"¿Cómo estás?\")\n",
        "    if estudiante in [\"Samuel\", \"Brenda\"]:\n",
        "        continue\n",
        "    print(\"¿Qué materias estás llevando,\", estudiante,\"?\")"
      ]
    },
    {
      "cell_type": "markdown",
      "metadata": {
        "id": "oVq1TRHCBwuv"
      },
      "source": [
        "#### pass\n",
        "\n"
      ]
    },
    {
      "cell_type": "markdown",
      "metadata": {
        "id": "mRApM4kKBwuv"
      },
      "source": [
        "La claúsula `pass` no hace nada, pero puede servir para que un programa incompleto sea sintácticamente correcto.\n",
        "\n"
      ]
    },
    {
      "cell_type": "code",
      "execution_count": 15,
      "metadata": {
        "colab": {
          "base_uri": "https://localhost:8080/"
        },
        "id": "Cxo0TAh0Bwuv",
        "outputId": "898d719b-28c7-46c6-90d3-54da9344411a"
      },
      "outputs": [
        {
          "output_type": "stream",
          "name": "stdout",
          "text": [
            "Hola Fernanda ¿Cómo estás?\n",
            "Hola Karem ¿Cómo estás?\n",
            "Hola Mariana ¿Cómo estás?\n",
            "Hola Mauritania ¿Cómo estás?\n",
            "Hola Loren ¿Cómo estás?\n",
            "Hola Samuel ¿Cómo estás?\n",
            "Hola Brenda ¿Cómo estás?\n"
          ]
        }
      ],
      "source": [
        "for estudiante in estudiantes:\n",
        "    print(\"Hola\", estudiante, \"¿Cómo estás?\")\n",
        "    if estudiante in [\"Samuel\", \"Brenda\"]:\n",
        "        pass"
      ]
    },
    {
      "cell_type": "code",
      "execution_count": 16,
      "metadata": {
        "colab": {
          "base_uri": "https://localhost:8080/"
        },
        "id": "o7V8E5yLBwuv",
        "outputId": "a1edb26a-abcc-439d-f9bb-180be00f143a"
      },
      "outputs": [
        {
          "output_type": "stream",
          "name": "stdout",
          "text": [
            "Hola Fernanda ¿Cómo estás?\n",
            "Hola Karem ¿Cómo estás?\n",
            "Hola Mariana ¿Cómo estás?\n",
            "Hola Mauritania ¿Cómo estás?\n",
            "Hola Loren ¿Cómo estás?\n",
            "Hola Samuel ¿Cómo estás?\n",
            "Hola Samuel ¿Eres oyente?\n",
            "Hola Brenda ¿Cómo estás?\n",
            "Hola Brenda ¿Eres oyente?\n"
          ]
        }
      ],
      "source": [
        "for estudiante in estudiantes:\n",
        "    print(\"Hola\", estudiante, \"¿Cómo estás?\")\n",
        "    if estudiante in [\"Samuel\", \"Brenda\"]:\n",
        "        print(\"Hola\", estudiante, \"¿Eres oyente?\")"
      ]
    }
  ],
  "metadata": {
    "kernelspec": {
      "display_name": "Python 3",
      "language": "python",
      "name": "python3"
    },
    "language_info": {
      "codemirror_mode": {
        "name": "ipython",
        "version": 3
      },
      "file_extension": ".py",
      "mimetype": "text/x-python",
      "name": "python",
      "nbconvert_exporter": "python",
      "pygments_lexer": "ipython3",
      "version": "3.9.2"
    },
    "org": null,
    "colab": {
      "provenance": []
    }
  },
  "nbformat": 4,
  "nbformat_minor": 0
}